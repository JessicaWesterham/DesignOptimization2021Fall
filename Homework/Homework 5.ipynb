{
 "cells": [
  {
   "cell_type": "markdown",
   "id": "southern-district",
   "metadata": {},
   "source": [
    "### Problem 1\n",
    "\n",
    "(100 points) Consider the following problem. \n",
    "\n",
    "$$\n",
    "\\begin{eqnarray*}\n",
    "\\hbox{min } f&=& x_1^2+(x_2-3)^2\\\\\n",
    "\\hbox{s.t. } g_1&=& x_2^2-2x_1\\leq 0\\\\\n",
    "             g_2&=& (x_2-1)^2+5x_1-15\\leq 0\\\\\n",
    "\\end{eqnarray*}\n",
    "$$\n",
    "\n",
    "Implement an SQP algorithm with line search to solve this problem, starting from\n",
    "${\\bf x}_0=(1,1)^T$. Incorporate the QP subproblem. Use BFGS\n",
    "approximation for the Hessian of the Lagrangian. Use the\n",
    "merit function and Armijo Line Search to find the step size."
   ]
  },
  {
   "cell_type": "markdown",
   "id": "96e7a9fb",
   "metadata": {},
   "source": [
    "## Solution\n",
    "\n",
    "For this problem, the convergence tolerance is set to ${\\bf}1*10^{-8}$ and the step size, a, is set to 0.01, though line search is turned on for the following results below.\n",
    "The value of a (step size) affects the number of iterations for optimization when line search is turned off. Due to smaller steps, the optimal solution can be determined with tiny steps that will require more iterations, and therefore computational power. A benefit of using small step sizes is that they improve the liklihood of converging to a value closer to the minimum.\n",
    "\n",
    "The code used for optimization is displayed below, including the SQP, QP, line search, and active set functions."
   ]
  },
  {
   "cell_type": "markdown",
   "id": "c5892d16",
   "metadata": {},
   "source": [
    "![HW5_code1](img/HW5_code1.jpg)"
   ]
  },
  {
   "cell_type": "markdown",
   "id": "ff6c4fee",
   "metadata": {},
   "source": [
    "![HW5_code2](img/HW5_code2.jpg)"
   ]
  },
  {
   "cell_type": "markdown",
   "id": "1083da10",
   "metadata": {},
   "source": [
    "![HW5_code3](img/HW5_code3.jpg)"
   ]
  },
  {
   "cell_type": "markdown",
   "id": "a6f4d68d",
   "metadata": {},
   "source": [
    "SQP function with BFGS:"
   ]
  },
  {
   "cell_type": "markdown",
   "id": "29029902",
   "metadata": {},
   "source": [
    "![sqp1](img/sqp1.jpg)"
   ]
  },
  {
   "cell_type": "markdown",
   "id": "425935ae",
   "metadata": {},
   "source": [
    "![HW5_sqp2](img/HW5_sqp2.jpg)"
   ]
  },
  {
   "cell_type": "markdown",
   "id": "358f0625",
   "metadata": {},
   "source": [
    "Line Search function:"
   ]
  },
  {
   "cell_type": "markdown",
   "id": "ada140cc",
   "metadata": {},
   "source": [
    "![HW5_linesearch](img/HW5__linesearch.jpg)"
   ]
  },
  {
   "cell_type": "markdown",
   "id": "ae2aa45d",
   "metadata": {},
   "source": [
    "QP function:"
   ]
  },
  {
   "attachments": {},
   "cell_type": "markdown",
   "id": "3a491120",
   "metadata": {},
   "source": [
    "![HW5_qp1](img/HW5_qp1.jpg)"
   ]
  },
  {
   "cell_type": "markdown",
   "id": "83c27798",
   "metadata": {},
   "source": [
    "![HW5_qp2](img/HW5_qp2.jpg)"
   ]
  },
  {
   "cell_type": "markdown",
   "id": "269db5c4",
   "metadata": {},
   "source": [
    "![HW5_qp3](img/HW5_qp3.jpg)"
   ]
  },
  {
   "cell_type": "markdown",
   "id": "c4b2d95a",
   "metadata": {},
   "source": [
    "Active Set function:"
   ]
  },
  {
   "attachments": {},
   "cell_type": "markdown",
   "id": "b36c1f30",
   "metadata": {},
   "source": [
    "![HW5_activeset](img/HW5_activeset.jpg)"
   ]
  },
  {
   "cell_type": "markdown",
   "id": "ea68993e",
   "metadata": {},
   "source": [
    "## Discussion of Plots\n",
    "\n",
    "The two convergence plots below show convergence of ${\\bf}x_1$ and ${\\bf}x_2$ to their respecive values within the tolerance discussed above. The plots also indicate the convergence values using dashed lines. It can be understood that with a tighter tolerance, the number of iterations will increase in order to meet requirements for convergence. When the tolerance was ${\\bf}1*10^{-3}$, only 5 iterations were needed to converge. The first convergence plot starts at the required point ${\\bf x}_0=(1,1)^T$. The second convergence plot was a simulation at a different starting point that still lies within the constraint region: ${\\bf x}_0=(1.5,-1.5)^T$. The purpose of this simulation was to prove that even with a largely different initial point, the algorithm will still be able to provide a solution that converges.\n",
    "\n",
    "The third plot displays ${\\bf}x_1$ vs ${\\bf}x_2$.\n",
    "\n",
    "The fourth plot briefly illustrates ${\\bf}x_1$ vs ${\\bf}x_2$, in red, within the constraint region to show how the algorithm is able to minimize the solution to just reach the edge of the region, to allow for an active constraint. "
   ]
  },
  {
   "cell_type": "markdown",
   "id": "51f42619",
   "metadata": {},
   "source": [
    "![HW5a](img/HW5a_original.jpg)"
   ]
  },
  {
   "cell_type": "markdown",
   "id": "92d86bf4",
   "metadata": {},
   "source": [
    "![HW5b](img/HW5b_initialvaluechange.jpg)"
   ]
  },
  {
   "cell_type": "markdown",
   "id": "3b623145",
   "metadata": {},
   "source": [
    "![HW5_x1x2](img/HW5_x1x2.jpg)"
   ]
  },
  {
   "cell_type": "markdown",
   "id": "e8908be1",
   "metadata": {},
   "source": [
    "![HW5_constraints](img/HW5_constraints.jpg)"
   ]
  },
  {
   "cell_type": "markdown",
   "id": "7676956e",
   "metadata": {},
   "source": [
    "*Note: The yellow shaded region encased in the black constraint lines in the center of the plot is the feasible region as defined by ${\\bf}g_1$ and ${\\bf}g_2$. The green region is reminants of shading the feasible region for g1, but this region is not feasible for all contraints. This is also the case for the yellow region on the right edge of the plot.*"
   ]
  },
  {
   "cell_type": "markdown",
   "id": "conservative-niger",
   "metadata": {},
   "source": []
  }
 ],
 "metadata": {
  "kernelspec": {
   "display_name": "Python 3",
   "language": "python",
   "name": "python3"
  },
  "language_info": {
   "codemirror_mode": {
    "name": "ipython",
    "version": 3
   },
   "file_extension": ".py",
   "mimetype": "text/x-python",
   "name": "python",
   "nbconvert_exporter": "python",
   "pygments_lexer": "ipython3",
   "version": "3.8.8"
  }
 },
 "nbformat": 4,
 "nbformat_minor": 5
}
